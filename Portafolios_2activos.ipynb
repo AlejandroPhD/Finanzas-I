{
 "cells": [
  {
   "cell_type": "markdown",
   "id": "ceee665b",
   "metadata": {},
   "source": [
    "## TEORÍA DE PORTAFOLIOS CON DOS ACTIVOS RIESGOSOS\n",
    "\n",
    "Los datos son anuales y se trabaja con estados de la naturaleza."
   ]
  },
  {
   "cell_type": "code",
   "execution_count": 1,
   "id": "cc4bf537",
   "metadata": {},
   "outputs": [],
   "source": [
    "import pandas as pd\n",
    "import statistics\n",
    "import numpy as np\n",
    "import matplotlib.pyplot as plt\n",
    "from matplotlib import pyplot as plt"
   ]
  },
  {
   "cell_type": "code",
   "execution_count": 2,
   "id": "33693f64",
   "metadata": {},
   "outputs": [
    {
     "data": {
      "text/html": [
       "<div>\n",
       "<style scoped>\n",
       "    .dataframe tbody tr th:only-of-type {\n",
       "        vertical-align: middle;\n",
       "    }\n",
       "\n",
       "    .dataframe tbody tr th {\n",
       "        vertical-align: top;\n",
       "    }\n",
       "\n",
       "    .dataframe thead th {\n",
       "        text-align: right;\n",
       "    }\n",
       "</style>\n",
       "<table border=\"1\" class=\"dataframe\">\n",
       "  <thead>\n",
       "    <tr style=\"text-align: right;\">\n",
       "      <th></th>\n",
       "      <th>A</th>\n",
       "      <th>B</th>\n",
       "    </tr>\n",
       "  </thead>\n",
       "  <tbody>\n",
       "    <tr>\n",
       "      <th>Depresión</th>\n",
       "      <td>-0.2</td>\n",
       "      <td>0.05</td>\n",
       "    </tr>\n",
       "    <tr>\n",
       "      <th>Recesión</th>\n",
       "      <td>0.1</td>\n",
       "      <td>0.20</td>\n",
       "    </tr>\n",
       "    <tr>\n",
       "      <th>Recuperación</th>\n",
       "      <td>0.3</td>\n",
       "      <td>-0.12</td>\n",
       "    </tr>\n",
       "    <tr>\n",
       "      <th>Auge</th>\n",
       "      <td>0.5</td>\n",
       "      <td>0.09</td>\n",
       "    </tr>\n",
       "  </tbody>\n",
       "</table>\n",
       "</div>"
      ],
      "text/plain": [
       "                A     B\n",
       "Depresión    -0.2  0.05\n",
       "Recesión      0.1  0.20\n",
       "Recuperación  0.3 -0.12\n",
       "Auge          0.5  0.09"
      ]
     },
     "execution_count": 2,
     "metadata": {},
     "output_type": "execute_result"
    }
   ],
   "source": [
    "escenarios=['Depresión', 'Recesión', 'Recuperación', 'Auge']\n",
    "empresas=['A', 'B']\n",
    "rets = pd.DataFrame([[-0.2, 0.05], [0.1, 0.20], [0.30, -0.12], [0.50, 0.09]], index=escenarios, columns=empresas)\n",
    "rets"
   ]
  },
  {
   "cell_type": "code",
   "execution_count": 3,
   "id": "a9812ec4",
   "metadata": {},
   "outputs": [
    {
     "data": {
      "text/plain": [
       "A    0.70\n",
       "B    0.22\n",
       "dtype: float64"
      ]
     },
     "execution_count": 3,
     "metadata": {},
     "output_type": "execute_result"
    }
   ],
   "source": [
    "sum_r=rets.sum()\n",
    "sum_r"
   ]
  },
  {
   "cell_type": "code",
   "execution_count": 4,
   "id": "75e2bfef",
   "metadata": {},
   "outputs": [
    {
     "data": {
      "text/plain": [
       "A    0.175\n",
       "B    0.055\n",
       "dtype: float64"
      ]
     },
     "execution_count": 4,
     "metadata": {},
     "output_type": "execute_result"
    }
   ],
   "source": [
    "promedio_r=rets.mean()\n",
    "promedio_r"
   ]
  },
  {
   "cell_type": "code",
   "execution_count": 5,
   "id": "7ac43357",
   "metadata": {},
   "outputs": [
    {
     "data": {
      "text/plain": [
       "A    0.089167\n",
       "B    0.017633\n",
       "dtype: float64"
      ]
     },
     "execution_count": 5,
     "metadata": {},
     "output_type": "execute_result"
    }
   ],
   "source": [
    "varm_r=rets.var()\n",
    "varm_r"
   ]
  },
  {
   "cell_type": "code",
   "execution_count": 6,
   "id": "83adbfa6",
   "metadata": {},
   "outputs": [
    {
     "data": {
      "text/plain": [
       "A    0.298608\n",
       "B    0.132791\n",
       "dtype: float64"
      ]
     },
     "execution_count": 6,
     "metadata": {},
     "output_type": "execute_result"
    }
   ],
   "source": [
    "desvm_r=rets.std()\n",
    "desvm_r"
   ]
  },
  {
   "cell_type": "code",
   "execution_count": 7,
   "id": "1566c018",
   "metadata": {},
   "outputs": [
    {
     "data": {
      "text/plain": [
       "A    0.066875\n",
       "B    0.013225\n",
       "dtype: float64"
      ]
     },
     "execution_count": 7,
     "metadata": {},
     "output_type": "execute_result"
    }
   ],
   "source": [
    "varp_r=((rets-promedio_r)**2/len(rets)).sum()\n",
    "varp_r"
   ]
  },
  {
   "cell_type": "code",
   "execution_count": 8,
   "id": "0208aaad",
   "metadata": {},
   "outputs": [
    {
     "data": {
      "text/plain": [
       "A    0.258602\n",
       "B    0.115000\n",
       "dtype: float64"
      ]
     },
     "execution_count": 8,
     "metadata": {},
     "output_type": "execute_result"
    }
   ],
   "source": [
    "desvp_r=varp_r**(1/2)\n",
    "desvp_r"
   ]
  },
  {
   "cell_type": "code",
   "execution_count": 9,
   "id": "9c491d22",
   "metadata": {},
   "outputs": [
    {
     "data": {
      "text/plain": [
       "A    0.599\n",
       "B    0.304\n",
       "dtype: float64"
      ]
     },
     "execution_count": 9,
     "metadata": {},
     "output_type": "execute_result"
    }
   ],
   "source": [
    "rf=0.02\n",
    "sr=(promedio_r-rf)/desvp_r\n",
    "sr.round(3)"
   ]
  },
  {
   "cell_type": "code",
   "execution_count": 10,
   "id": "def96ba2",
   "metadata": {},
   "outputs": [
    {
     "data": {
      "text/html": [
       "<div>\n",
       "<style scoped>\n",
       "    .dataframe tbody tr th:only-of-type {\n",
       "        vertical-align: middle;\n",
       "    }\n",
       "\n",
       "    .dataframe tbody tr th {\n",
       "        vertical-align: top;\n",
       "    }\n",
       "\n",
       "    .dataframe thead th {\n",
       "        text-align: right;\n",
       "    }\n",
       "</style>\n",
       "<table border=\"1\" class=\"dataframe\">\n",
       "  <thead>\n",
       "    <tr style=\"text-align: right;\">\n",
       "      <th></th>\n",
       "      <th>A</th>\n",
       "      <th>B</th>\n",
       "    </tr>\n",
       "  </thead>\n",
       "  <tbody>\n",
       "    <tr>\n",
       "      <th>A</th>\n",
       "      <td>0.089167</td>\n",
       "      <td>-0.006500</td>\n",
       "    </tr>\n",
       "    <tr>\n",
       "      <th>B</th>\n",
       "      <td>-0.006500</td>\n",
       "      <td>0.017633</td>\n",
       "    </tr>\n",
       "  </tbody>\n",
       "</table>\n",
       "</div>"
      ],
      "text/plain": [
       "          A         B\n",
       "A  0.089167 -0.006500\n",
       "B -0.006500  0.017633"
      ]
     },
     "execution_count": 10,
     "metadata": {},
     "output_type": "execute_result"
    }
   ],
   "source": [
    "cov_m=rets.cov()\n",
    "cov_m"
   ]
  },
  {
   "cell_type": "markdown",
   "id": "cf432df5",
   "metadata": {},
   "source": [
    "### Pasos para calcular las covarianzas de población"
   ]
  },
  {
   "cell_type": "code",
   "execution_count": 11,
   "id": "55093dd0",
   "metadata": {},
   "outputs": [
    {
     "data": {
      "text/plain": [
       "0.066875"
      ]
     },
     "execution_count": 11,
     "metadata": {},
     "output_type": "execute_result"
    }
   ],
   "source": [
    "cov_AA=(((rets['A']-rets['A'].mean())*((rets['A']-rets['A'].mean()))).sum())/len(rets)\n",
    "cov_AB=(((rets['A']-rets['A'].mean())*((rets['B']-rets['B'].mean()))).sum())/len(rets)\n",
    "cov_BB=(((rets['B']-rets['B'].mean())*((rets['B']-rets['B'].mean()))).sum())/len(rets)\n",
    "cov_AA"
   ]
  },
  {
   "cell_type": "code",
   "execution_count": 12,
   "id": "2588c283",
   "metadata": {},
   "outputs": [
    {
     "data": {
      "text/plain": [
       "-0.004875"
      ]
     },
     "execution_count": 12,
     "metadata": {},
     "output_type": "execute_result"
    }
   ],
   "source": [
    "cov_AB"
   ]
  },
  {
   "cell_type": "code",
   "execution_count": 13,
   "id": "65f38e3c",
   "metadata": {},
   "outputs": [
    {
     "data": {
      "text/plain": [
       "0.013224999999999999"
      ]
     },
     "execution_count": 13,
     "metadata": {},
     "output_type": "execute_result"
    }
   ],
   "source": [
    "cov_BB"
   ]
  },
  {
   "cell_type": "code",
   "execution_count": 14,
   "id": "2b1185f1",
   "metadata": {},
   "outputs": [
    {
     "data": {
      "text/html": [
       "<div>\n",
       "<style scoped>\n",
       "    .dataframe tbody tr th:only-of-type {\n",
       "        vertical-align: middle;\n",
       "    }\n",
       "\n",
       "    .dataframe tbody tr th {\n",
       "        vertical-align: top;\n",
       "    }\n",
       "\n",
       "    .dataframe thead th {\n",
       "        text-align: right;\n",
       "    }\n",
       "</style>\n",
       "<table border=\"1\" class=\"dataframe\">\n",
       "  <thead>\n",
       "    <tr style=\"text-align: right;\">\n",
       "      <th></th>\n",
       "      <th>A</th>\n",
       "      <th>B</th>\n",
       "    </tr>\n",
       "  </thead>\n",
       "  <tbody>\n",
       "    <tr>\n",
       "      <th>A</th>\n",
       "      <td>0.066875</td>\n",
       "      <td>-0.004875</td>\n",
       "    </tr>\n",
       "    <tr>\n",
       "      <th>B</th>\n",
       "      <td>-0.004875</td>\n",
       "      <td>0.013225</td>\n",
       "    </tr>\n",
       "  </tbody>\n",
       "</table>\n",
       "</div>"
      ],
      "text/plain": [
       "          A         B\n",
       "A  0.066875 -0.004875\n",
       "B -0.004875  0.013225"
      ]
     },
     "execution_count": 14,
     "metadata": {},
     "output_type": "execute_result"
    }
   ],
   "source": [
    "cov_p = pd.DataFrame([[cov_AA, cov_AB], [cov_AB, cov_BB]], index=empresas, columns=empresas)\n",
    "cov_p"
   ]
  },
  {
   "cell_type": "markdown",
   "id": "234c085a",
   "metadata": {},
   "source": [
    "#### COMO DEFINIR UNA FUNCIÓN"
   ]
  },
  {
   "cell_type": "code",
   "execution_count": 15,
   "id": "7a5fbbce",
   "metadata": {},
   "outputs": [],
   "source": [
    "def simple():\n",
    "    print(\"My first function\")"
   ]
  },
  {
   "cell_type": "code",
   "execution_count": 16,
   "id": "fe2390fc",
   "metadata": {},
   "outputs": [
    {
     "name": "stdout",
     "output_type": "stream",
     "text": [
      "My first function\n"
     ]
    }
   ],
   "source": [
    "simple()"
   ]
  },
  {
   "cell_type": "code",
   "execution_count": 17,
   "id": "7f4f37f2",
   "metadata": {},
   "outputs": [],
   "source": [
    "def plus_ten(a): # (a) se denomina parametro\n",
    "    return a + 10 #este es el cuerpo de la función"
   ]
  },
  {
   "cell_type": "code",
   "execution_count": 18,
   "id": "be1adfef",
   "metadata": {},
   "outputs": [
    {
     "data": {
      "text/plain": [
       "12"
      ]
     },
     "execution_count": 18,
     "metadata": {},
     "output_type": "execute_result"
    }
   ],
   "source": [
    "plus_ten(2) #el dos se denomina argumento"
   ]
  },
  {
   "cell_type": "code",
   "execution_count": 19,
   "id": "9bc34a21",
   "metadata": {},
   "outputs": [],
   "source": [
    "def plus_ten(a):\n",
    "    result=a+10\n",
    "    return result"
   ]
  },
  {
   "cell_type": "code",
   "execution_count": 20,
   "id": "c9b68b52",
   "metadata": {},
   "outputs": [
    {
     "data": {
      "text/plain": [
       "15"
      ]
     },
     "execution_count": 20,
     "metadata": {},
     "output_type": "execute_result"
    }
   ],
   "source": [
    "plus_ten(5)"
   ]
  },
  {
   "cell_type": "code",
   "execution_count": 21,
   "id": "e6e711ce",
   "metadata": {},
   "outputs": [],
   "source": [
    "def wage(w_hours):\n",
    "    return w_hours * 25\n",
    "\n",
    "def with_bonus(w_hours):\n",
    "    return wage(w_hours) + 50"
   ]
  },
  {
   "cell_type": "code",
   "execution_count": 22,
   "id": "14bb04b5",
   "metadata": {},
   "outputs": [
    {
     "data": {
      "text/plain": [
       "(200, 250)"
      ]
     },
     "execution_count": 22,
     "metadata": {},
     "output_type": "execute_result"
    }
   ],
   "source": [
    "wage(8), with_bonus(8)"
   ]
  },
  {
   "cell_type": "markdown",
   "id": "c065224d",
   "metadata": {},
   "source": [
    "### ELABORAMOS DOS FUNCIONES PARA CALCULAR EL RENDIMIENTO Y EL RIESGO DE UN PORTAFOLIO"
   ]
  },
  {
   "cell_type": "code",
   "execution_count": 23,
   "id": "5f5f5666",
   "metadata": {},
   "outputs": [],
   "source": [
    "def portfolio_return(weights, returns):\n",
    "    \"\"\"\n",
    "    Computes the return on a portfolio from constituent returns and weights\n",
    "    weights are a numpy array or Nx1 matrix and returns are a numpy array or Nx1 matrix\n",
    "    \"\"\"\n",
    "    return weights.T @ returns"
   ]
  },
  {
   "cell_type": "code",
   "execution_count": 24,
   "id": "7811456f",
   "metadata": {},
   "outputs": [],
   "source": [
    "def portfolio_vol(weights, covmat):\n",
    "    \"\"\"\n",
    "    Computes the vol of a portfolio from a covariance matrix and constituent weights\n",
    "    weights are a numpy array or N x 1 maxtrix and covmat is an N x N matrix\n",
    "    \"\"\"\n",
    "    return (weights.T @ covmat @ weights)**0.5"
   ]
  },
  {
   "cell_type": "markdown",
   "id": "5d9d84fd",
   "metadata": {},
   "source": [
    "## Calculamos el rendimiento y riesgo de nuestro portafolio con dos activos"
   ]
  },
  {
   "cell_type": "code",
   "execution_count": 25,
   "id": "70cbf32a",
   "metadata": {},
   "outputs": [
    {
     "data": {
      "text/plain": [
       "array([0.5, 0.5])"
      ]
     },
     "execution_count": 25,
     "metadata": {},
     "output_type": "execute_result"
    }
   ],
   "source": [
    "ew = np.repeat(0.5, 2)\n",
    "ew"
   ]
  },
  {
   "cell_type": "code",
   "execution_count": 26,
   "id": "5c5f493e",
   "metadata": {},
   "outputs": [
    {
     "name": "stdout",
     "output_type": "stream",
     "text": [
      "11.5\n"
     ]
    }
   ],
   "source": [
    "rp_ew=portfolio_return(ew, promedio_r)\n",
    "print(round(rp_ew*100,2))"
   ]
  },
  {
   "cell_type": "code",
   "execution_count": 27,
   "id": "03a65615",
   "metadata": {},
   "outputs": [
    {
     "data": {
      "text/plain": [
       "[array([0., 1.]),\n",
       " array([0.11111111, 0.88888889]),\n",
       " array([0.22222222, 0.77777778]),\n",
       " array([0.33333333, 0.66666667]),\n",
       " array([0.44444444, 0.55555556]),\n",
       " array([0.55555556, 0.44444444]),\n",
       " array([0.66666667, 0.33333333]),\n",
       " array([0.77777778, 0.22222222]),\n",
       " array([0.88888889, 0.11111111]),\n",
       " array([1., 0.])]"
      ]
     },
     "execution_count": 27,
     "metadata": {},
     "output_type": "execute_result"
    }
   ],
   "source": [
    "n_points = 10\n",
    "weights = [np.array([w, 1-w]) for w in np.linspace(0, 1, n_points)]\n",
    "weights"
   ]
  },
  {
   "cell_type": "code",
   "execution_count": 28,
   "id": "917ca197",
   "metadata": {},
   "outputs": [
    {
     "data": {
      "text/plain": [
       "list"
      ]
     },
     "execution_count": 28,
     "metadata": {},
     "output_type": "execute_result"
    }
   ],
   "source": [
    "type(weights)"
   ]
  },
  {
   "cell_type": "code",
   "execution_count": 29,
   "id": "cb6428a1",
   "metadata": {},
   "outputs": [
    {
     "data": {
      "text/plain": [
       "[0.055,\n",
       " 0.06833333333333333,\n",
       " 0.08166666666666667,\n",
       " 0.095,\n",
       " 0.10833333333333332,\n",
       " 0.12166666666666667,\n",
       " 0.13499999999999998,\n",
       " 0.1483333333333333,\n",
       " 0.16166666666666665,\n",
       " 0.175]"
      ]
     },
     "execution_count": 29,
     "metadata": {},
     "output_type": "execute_result"
    }
   ],
   "source": [
    "rp_dw = [portfolio_return(w, promedio_r) for w in weights]\n",
    "rp_dw"
   ]
  },
  {
   "cell_type": "code",
   "execution_count": 57,
   "id": "62e399cc",
   "metadata": {},
   "outputs": [
    {
     "data": {
      "text/plain": [
       "[0.11499999999999999,\n",
       " 0.10154820056031044,\n",
       " 0.09806932544171287,\n",
       " 0.10555409355712675,\n",
       " 0.12200106253332083,\n",
       " 0.14437925879561225,\n",
       " 0.1703672503740082,\n",
       " 0.19855263319369035,\n",
       " 0.22812236807208278,\n",
       " 0.258602010819715]"
      ]
     },
     "execution_count": 57,
     "metadata": {},
     "output_type": "execute_result"
    }
   ],
   "source": [
    "p_vol=[portfolio_vol(w, cov_p) for w in weights]\n",
    "p_vol"
   ]
  },
  {
   "cell_type": "code",
   "execution_count": 58,
   "id": "e29c7c8f",
   "metadata": {},
   "outputs": [
    {
     "data": {
      "image/png": "[encoded data removed]",
      "text/plain": [
       "<Figure size 432x288 with 1 Axes>"
      ]
     },
     "metadata": {
      "needs_background": "light"
     },
     "output_type": "display_data"
    }
   ],
   "source": [
    "ef = pd.DataFrame({\"R\": rp_dw, \"V\": p_vol})\n",
    "ef.plot.scatter(x=\"V\", y=\"R\")\n",
    "plt.savefig(\"Frontera Eficiente.jpg\")\n",
    "plt.show()"
   ]
  },
  {
   "cell_type": "code",
   "execution_count": 59,
   "id": "63dc9bac",
   "metadata": {},
   "outputs": [],
   "source": [
    "def plot_ef2(n_points, er, cov):\n",
    "    \"\"\"\n",
    "    Plots the 2-asset efficient frontier\n",
    "    \"\"\"\n",
    "    if er.shape[0] != 2 or er.shape[0] != 2:\n",
    "        raise ValueError(\"plot_ef2 can only plot 2-asset frontiers\")\n",
    "    weights = [np.array([w, 1-w]) for w in np.linspace(0, 1, n_points)]\n",
    "    rets = [portfolio_return(w, er) for w in weights]\n",
    "    vols = [portfolio_vol(w, cov) for w in weights]\n",
    "    ef = pd.DataFrame({\n",
    "        \"Returns\": rets, \n",
    "        \"Volatility\": vols\n",
    "    })\n",
    "    return ef.plot.line(x=\"Volatility\", y=\"Returns\", style=\".-\")"
   ]
  },
  {
   "cell_type": "code",
   "execution_count": 60,
   "id": "cb64e19b",
   "metadata": {},
   "outputs": [
    {
     "data": {
      "image/png": "[encoded data removed]",
      "text/plain": [
       "<Figure size 432x288 with 1 Axes>"
      ]
     },
     "metadata": {
      "needs_background": "light"
     },
     "output_type": "display_data"
    }
   ],
   "source": [
    "plot_ef2(25, promedio_r, cov_p)\n",
    "plt.savefig(\"Frontera Eficiente2.jpg\")"
   ]
  },
  {
   "cell_type": "markdown",
   "id": "cdd88540",
   "metadata": {},
   "source": [
    "## CALCULAMOS EL RATIO DE SHARPE"
   ]
  },
  {
   "cell_type": "code",
   "execution_count": 61,
   "id": "2adab05a",
   "metadata": {},
   "outputs": [
    {
     "data": {
      "text/html": [
       "<div>\n",
       "<style scoped>\n",
       "    .dataframe tbody tr th:only-of-type {\n",
       "        vertical-align: middle;\n",
       "    }\n",
       "\n",
       "    .dataframe tbody tr th {\n",
       "        vertical-align: top;\n",
       "    }\n",
       "\n",
       "    .dataframe thead th {\n",
       "        text-align: right;\n",
       "    }\n",
       "</style>\n",
       "<table border=\"1\" class=\"dataframe\">\n",
       "  <thead>\n",
       "    <tr style=\"text-align: right;\">\n",
       "      <th></th>\n",
       "      <th>0</th>\n",
       "    </tr>\n",
       "  </thead>\n",
       "  <tbody>\n",
       "    <tr>\n",
       "      <th>0</th>\n",
       "      <td>0.055000</td>\n",
       "    </tr>\n",
       "    <tr>\n",
       "      <th>1</th>\n",
       "      <td>0.068333</td>\n",
       "    </tr>\n",
       "    <tr>\n",
       "      <th>2</th>\n",
       "      <td>0.081667</td>\n",
       "    </tr>\n",
       "    <tr>\n",
       "      <th>3</th>\n",
       "      <td>0.095000</td>\n",
       "    </tr>\n",
       "    <tr>\n",
       "      <th>4</th>\n",
       "      <td>0.108333</td>\n",
       "    </tr>\n",
       "    <tr>\n",
       "      <th>5</th>\n",
       "      <td>0.121667</td>\n",
       "    </tr>\n",
       "    <tr>\n",
       "      <th>6</th>\n",
       "      <td>0.135000</td>\n",
       "    </tr>\n",
       "    <tr>\n",
       "      <th>7</th>\n",
       "      <td>0.148333</td>\n",
       "    </tr>\n",
       "    <tr>\n",
       "      <th>8</th>\n",
       "      <td>0.161667</td>\n",
       "    </tr>\n",
       "    <tr>\n",
       "      <th>9</th>\n",
       "      <td>0.175000</td>\n",
       "    </tr>\n",
       "  </tbody>\n",
       "</table>\n",
       "</div>"
      ],
      "text/plain": [
       "          0\n",
       "0  0.055000\n",
       "1  0.068333\n",
       "2  0.081667\n",
       "3  0.095000\n",
       "4  0.108333\n",
       "5  0.121667\n",
       "6  0.135000\n",
       "7  0.148333\n",
       "8  0.161667\n",
       "9  0.175000"
      ]
     },
     "execution_count": 61,
     "metadata": {},
     "output_type": "execute_result"
    }
   ],
   "source": [
    "ren_port=pd.DataFrame(rp_dw,)\n",
    "ren_port"
   ]
  },
  {
   "cell_type": "code",
   "execution_count": 62,
   "id": "fb0021f0",
   "metadata": {},
   "outputs": [
    {
     "data": {
      "text/html": [
       "<div>\n",
       "<style scoped>\n",
       "    .dataframe tbody tr th:only-of-type {\n",
       "        vertical-align: middle;\n",
       "    }\n",
       "\n",
       "    .dataframe tbody tr th {\n",
       "        vertical-align: top;\n",
       "    }\n",
       "\n",
       "    .dataframe thead th {\n",
       "        text-align: right;\n",
       "    }\n",
       "</style>\n",
       "<table border=\"1\" class=\"dataframe\">\n",
       "  <thead>\n",
       "    <tr style=\"text-align: right;\">\n",
       "      <th></th>\n",
       "      <th>0</th>\n",
       "    </tr>\n",
       "  </thead>\n",
       "  <tbody>\n",
       "    <tr>\n",
       "      <th>0</th>\n",
       "      <td>0.035</td>\n",
       "    </tr>\n",
       "    <tr>\n",
       "      <th>1</th>\n",
       "      <td>0.048</td>\n",
       "    </tr>\n",
       "    <tr>\n",
       "      <th>2</th>\n",
       "      <td>0.062</td>\n",
       "    </tr>\n",
       "    <tr>\n",
       "      <th>3</th>\n",
       "      <td>0.075</td>\n",
       "    </tr>\n",
       "    <tr>\n",
       "      <th>4</th>\n",
       "      <td>0.088</td>\n",
       "    </tr>\n",
       "    <tr>\n",
       "      <th>5</th>\n",
       "      <td>0.102</td>\n",
       "    </tr>\n",
       "    <tr>\n",
       "      <th>6</th>\n",
       "      <td>0.115</td>\n",
       "    </tr>\n",
       "    <tr>\n",
       "      <th>7</th>\n",
       "      <td>0.128</td>\n",
       "    </tr>\n",
       "    <tr>\n",
       "      <th>8</th>\n",
       "      <td>0.142</td>\n",
       "    </tr>\n",
       "    <tr>\n",
       "      <th>9</th>\n",
       "      <td>0.155</td>\n",
       "    </tr>\n",
       "  </tbody>\n",
       "</table>\n",
       "</div>"
      ],
      "text/plain": [
       "       0\n",
       "0  0.035\n",
       "1  0.048\n",
       "2  0.062\n",
       "3  0.075\n",
       "4  0.088\n",
       "5  0.102\n",
       "6  0.115\n",
       "7  0.128\n",
       "8  0.142\n",
       "9  0.155"
      ]
     },
     "execution_count": 62,
     "metadata": {},
     "output_type": "execute_result"
    }
   ],
   "source": [
    "rf=0.02\n",
    "sr_p=(ren_port-rf)\n",
    "sr_p.round(3)"
   ]
  },
  {
   "cell_type": "code",
   "execution_count": 63,
   "id": "64276ded",
   "metadata": {},
   "outputs": [
    {
     "data": {
      "text/html": [
       "<div>\n",
       "<style scoped>\n",
       "    .dataframe tbody tr th:only-of-type {\n",
       "        vertical-align: middle;\n",
       "    }\n",
       "\n",
       "    .dataframe tbody tr th {\n",
       "        vertical-align: top;\n",
       "    }\n",
       "\n",
       "    .dataframe thead th {\n",
       "        text-align: right;\n",
       "    }\n",
       "</style>\n",
       "<table border=\"1\" class=\"dataframe\">\n",
       "  <thead>\n",
       "    <tr style=\"text-align: right;\">\n",
       "      <th></th>\n",
       "      <th>0</th>\n",
       "    </tr>\n",
       "  </thead>\n",
       "  <tbody>\n",
       "    <tr>\n",
       "      <th>0</th>\n",
       "      <td>0.115000</td>\n",
       "    </tr>\n",
       "    <tr>\n",
       "      <th>1</th>\n",
       "      <td>0.101548</td>\n",
       "    </tr>\n",
       "    <tr>\n",
       "      <th>2</th>\n",
       "      <td>0.098069</td>\n",
       "    </tr>\n",
       "    <tr>\n",
       "      <th>3</th>\n",
       "      <td>0.105554</td>\n",
       "    </tr>\n",
       "    <tr>\n",
       "      <th>4</th>\n",
       "      <td>0.122001</td>\n",
       "    </tr>\n",
       "    <tr>\n",
       "      <th>5</th>\n",
       "      <td>0.144379</td>\n",
       "    </tr>\n",
       "    <tr>\n",
       "      <th>6</th>\n",
       "      <td>0.170367</td>\n",
       "    </tr>\n",
       "    <tr>\n",
       "      <th>7</th>\n",
       "      <td>0.198553</td>\n",
       "    </tr>\n",
       "    <tr>\n",
       "      <th>8</th>\n",
       "      <td>0.228122</td>\n",
       "    </tr>\n",
       "    <tr>\n",
       "      <th>9</th>\n",
       "      <td>0.258602</td>\n",
       "    </tr>\n",
       "  </tbody>\n",
       "</table>\n",
       "</div>"
      ],
      "text/plain": [
       "          0\n",
       "0  0.115000\n",
       "1  0.101548\n",
       "2  0.098069\n",
       "3  0.105554\n",
       "4  0.122001\n",
       "5  0.144379\n",
       "6  0.170367\n",
       "7  0.198553\n",
       "8  0.228122\n",
       "9  0.258602"
      ]
     },
     "execution_count": 63,
     "metadata": {},
     "output_type": "execute_result"
    }
   ],
   "source": [
    "vol_port=pd.DataFrame(p_vol,)\n",
    "vol_port"
   ]
  },
  {
   "cell_type": "code",
   "execution_count": 64,
   "id": "5824bb77",
   "metadata": {},
   "outputs": [
    {
     "data": {
      "text/html": [
       "<div>\n",
       "<style scoped>\n",
       "    .dataframe tbody tr th:only-of-type {\n",
       "        vertical-align: middle;\n",
       "    }\n",
       "\n",
       "    .dataframe tbody tr th {\n",
       "        vertical-align: top;\n",
       "    }\n",
       "\n",
       "    .dataframe thead th {\n",
       "        text-align: right;\n",
       "    }\n",
       "</style>\n",
       "<table border=\"1\" class=\"dataframe\">\n",
       "  <thead>\n",
       "    <tr style=\"text-align: right;\">\n",
       "      <th></th>\n",
       "      <th>0</th>\n",
       "    </tr>\n",
       "  </thead>\n",
       "  <tbody>\n",
       "    <tr>\n",
       "      <th>0</th>\n",
       "      <td>0.478</td>\n",
       "    </tr>\n",
       "    <tr>\n",
       "      <th>1</th>\n",
       "      <td>0.673</td>\n",
       "    </tr>\n",
       "    <tr>\n",
       "      <th>2</th>\n",
       "      <td>0.833</td>\n",
       "    </tr>\n",
       "    <tr>\n",
       "      <th>3</th>\n",
       "      <td>0.900</td>\n",
       "    </tr>\n",
       "    <tr>\n",
       "      <th>4</th>\n",
       "      <td>0.888</td>\n",
       "    </tr>\n",
       "    <tr>\n",
       "      <th>5</th>\n",
       "      <td>0.843</td>\n",
       "    </tr>\n",
       "    <tr>\n",
       "      <th>6</th>\n",
       "      <td>0.792</td>\n",
       "    </tr>\n",
       "    <tr>\n",
       "      <th>7</th>\n",
       "      <td>0.747</td>\n",
       "    </tr>\n",
       "    <tr>\n",
       "      <th>8</th>\n",
       "      <td>0.709</td>\n",
       "    </tr>\n",
       "    <tr>\n",
       "      <th>9</th>\n",
       "      <td>0.677</td>\n",
       "    </tr>\n",
       "  </tbody>\n",
       "</table>\n",
       "</div>"
      ],
      "text/plain": [
       "       0\n",
       "0  0.478\n",
       "1  0.673\n",
       "2  0.833\n",
       "3  0.900\n",
       "4  0.888\n",
       "5  0.843\n",
       "6  0.792\n",
       "7  0.747\n",
       "8  0.709\n",
       "9  0.677"
      ]
     },
     "execution_count": 64,
     "metadata": {},
     "output_type": "execute_result"
    }
   ],
   "source": [
    "sr_p=ren_port/vol_port\n",
    "sr_p.round(3)"
   ]
  },
  {
   "cell_type": "markdown",
   "id": "ab443383",
   "metadata": {},
   "source": [
    "## Graficamos un mapa de transición"
   ]
  },
  {
   "cell_type": "markdown",
   "id": "9caca1b6",
   "metadata": {},
   "source": [
    "Extraemos las ponderaciones de cada empresa en un data frame"
   ]
  },
  {
   "cell_type": "code",
   "execution_count": 65,
   "id": "1f24d429",
   "metadata": {},
   "outputs": [
    {
     "data": {
      "text/html": [
       "<div>\n",
       "<style scoped>\n",
       "    .dataframe tbody tr th:only-of-type {\n",
       "        vertical-align: middle;\n",
       "    }\n",
       "\n",
       "    .dataframe tbody tr th {\n",
       "        vertical-align: top;\n",
       "    }\n",
       "\n",
       "    .dataframe thead th {\n",
       "        text-align: right;\n",
       "    }\n",
       "</style>\n",
       "<table border=\"1\" class=\"dataframe\">\n",
       "  <thead>\n",
       "    <tr style=\"text-align: right;\">\n",
       "      <th></th>\n",
       "      <th>A</th>\n",
       "      <th>B</th>\n",
       "    </tr>\n",
       "  </thead>\n",
       "  <tbody>\n",
       "    <tr>\n",
       "      <th>0</th>\n",
       "      <td>0.000000</td>\n",
       "      <td>1.000000</td>\n",
       "    </tr>\n",
       "    <tr>\n",
       "      <th>1</th>\n",
       "      <td>0.111111</td>\n",
       "      <td>0.888889</td>\n",
       "    </tr>\n",
       "    <tr>\n",
       "      <th>2</th>\n",
       "      <td>0.222222</td>\n",
       "      <td>0.777778</td>\n",
       "    </tr>\n",
       "    <tr>\n",
       "      <th>3</th>\n",
       "      <td>0.333333</td>\n",
       "      <td>0.666667</td>\n",
       "    </tr>\n",
       "    <tr>\n",
       "      <th>4</th>\n",
       "      <td>0.444444</td>\n",
       "      <td>0.555556</td>\n",
       "    </tr>\n",
       "    <tr>\n",
       "      <th>5</th>\n",
       "      <td>0.555556</td>\n",
       "      <td>0.444444</td>\n",
       "    </tr>\n",
       "    <tr>\n",
       "      <th>6</th>\n",
       "      <td>0.666667</td>\n",
       "      <td>0.333333</td>\n",
       "    </tr>\n",
       "    <tr>\n",
       "      <th>7</th>\n",
       "      <td>0.777778</td>\n",
       "      <td>0.222222</td>\n",
       "    </tr>\n",
       "    <tr>\n",
       "      <th>8</th>\n",
       "      <td>0.888889</td>\n",
       "      <td>0.111111</td>\n",
       "    </tr>\n",
       "    <tr>\n",
       "      <th>9</th>\n",
       "      <td>1.000000</td>\n",
       "      <td>0.000000</td>\n",
       "    </tr>\n",
       "  </tbody>\n",
       "</table>\n",
       "</div>"
      ],
      "text/plain": [
       "          A         B\n",
       "0  0.000000  1.000000\n",
       "1  0.111111  0.888889\n",
       "2  0.222222  0.777778\n",
       "3  0.333333  0.666667\n",
       "4  0.444444  0.555556\n",
       "5  0.555556  0.444444\n",
       "6  0.666667  0.333333\n",
       "7  0.777778  0.222222\n",
       "8  0.888889  0.111111\n",
       "9  1.000000  0.000000"
      ]
     },
     "execution_count": 65,
     "metadata": {},
     "output_type": "execute_result"
    }
   ],
   "source": [
    "p_w=pd.DataFrame(weights, columns=empresas)\n",
    "p_w"
   ]
  },
  {
   "cell_type": "code",
   "execution_count": 66,
   "id": "84dd6dbd",
   "metadata": {},
   "outputs": [],
   "source": [
    "w_A=p_w['A']\n",
    "w_B=p_w['B']"
   ]
  },
  {
   "cell_type": "code",
   "execution_count": 67,
   "id": "b96819de",
   "metadata": {},
   "outputs": [],
   "source": [
    "x_min=p_vol[0]\n",
    "x_max=np.max(p_vol)"
   ]
  },
  {
   "cell_type": "code",
   "execution_count": 68,
   "id": "e2c7e6b0",
   "metadata": {},
   "outputs": [
    {
     "data": {
      "image/png": "[encoded data removed]",
      "text/plain": [
       "<Figure size 432x288 with 1 Axes>"
      ]
     },
     "metadata": {
      "needs_background": "light"
     },
     "output_type": "display_data"
    }
   ],
   "source": [
    "plt.stackplot(p_vol, w_A, w_B)\n",
    "plt.title(\"Mapa de transición\")\n",
    "plt.xlim((x_min, x_max))\n",
    "plt.ylim((0, 1))\n",
    "plt.tight_layout()\n",
    "plt.show()"
   ]
  },
  {
   "cell_type": "markdown",
   "id": "5e877e2f",
   "metadata": {},
   "source": [
    "## REPORTE FINAL"
   ]
  },
  {
   "cell_type": "code",
   "execution_count": 69,
   "id": "3dfafeaf",
   "metadata": {},
   "outputs": [
    {
     "data": {
      "text/html": [
       "<div>\n",
       "<style scoped>\n",
       "    .dataframe tbody tr th:only-of-type {\n",
       "        vertical-align: middle;\n",
       "    }\n",
       "\n",
       "    .dataframe tbody tr th {\n",
       "        vertical-align: top;\n",
       "    }\n",
       "\n",
       "    .dataframe thead th {\n",
       "        text-align: right;\n",
       "    }\n",
       "</style>\n",
       "<table border=\"1\" class=\"dataframe\">\n",
       "  <thead>\n",
       "    <tr style=\"text-align: right;\">\n",
       "      <th></th>\n",
       "      <th>A</th>\n",
       "      <th>B</th>\n",
       "      <th>Rentabilidad</th>\n",
       "      <th>Volatilidad</th>\n",
       "      <th>Sharpe Ratio</th>\n",
       "    </tr>\n",
       "  </thead>\n",
       "  <tbody>\n",
       "    <tr>\n",
       "      <th>0</th>\n",
       "      <td>0.000000</td>\n",
       "      <td>1.000000</td>\n",
       "      <td>0.055000</td>\n",
       "      <td>0.115000</td>\n",
       "      <td>0.478261</td>\n",
       "    </tr>\n",
       "    <tr>\n",
       "      <th>1</th>\n",
       "      <td>0.111111</td>\n",
       "      <td>0.888889</td>\n",
       "      <td>0.068333</td>\n",
       "      <td>0.101548</td>\n",
       "      <td>0.672915</td>\n",
       "    </tr>\n",
       "    <tr>\n",
       "      <th>2</th>\n",
       "      <td>0.222222</td>\n",
       "      <td>0.777778</td>\n",
       "      <td>0.081667</td>\n",
       "      <td>0.098069</td>\n",
       "      <td>0.832744</td>\n",
       "    </tr>\n",
       "    <tr>\n",
       "      <th>3</th>\n",
       "      <td>0.333333</td>\n",
       "      <td>0.666667</td>\n",
       "      <td>0.095000</td>\n",
       "      <td>0.105554</td>\n",
       "      <td>0.900012</td>\n",
       "    </tr>\n",
       "    <tr>\n",
       "      <th>4</th>\n",
       "      <td>0.444444</td>\n",
       "      <td>0.555556</td>\n",
       "      <td>0.108333</td>\n",
       "      <td>0.122001</td>\n",
       "      <td>0.887970</td>\n",
       "    </tr>\n",
       "    <tr>\n",
       "      <th>5</th>\n",
       "      <td>0.555556</td>\n",
       "      <td>0.444444</td>\n",
       "      <td>0.121667</td>\n",
       "      <td>0.144379</td>\n",
       "      <td>0.842688</td>\n",
       "    </tr>\n",
       "    <tr>\n",
       "      <th>6</th>\n",
       "      <td>0.666667</td>\n",
       "      <td>0.333333</td>\n",
       "      <td>0.135000</td>\n",
       "      <td>0.170367</td>\n",
       "      <td>0.792406</td>\n",
       "    </tr>\n",
       "    <tr>\n",
       "      <th>7</th>\n",
       "      <td>0.777778</td>\n",
       "      <td>0.222222</td>\n",
       "      <td>0.148333</td>\n",
       "      <td>0.198553</td>\n",
       "      <td>0.747073</td>\n",
       "    </tr>\n",
       "    <tr>\n",
       "      <th>8</th>\n",
       "      <td>0.888889</td>\n",
       "      <td>0.111111</td>\n",
       "      <td>0.161667</td>\n",
       "      <td>0.228122</td>\n",
       "      <td>0.708684</td>\n",
       "    </tr>\n",
       "    <tr>\n",
       "      <th>9</th>\n",
       "      <td>1.000000</td>\n",
       "      <td>0.000000</td>\n",
       "      <td>0.175000</td>\n",
       "      <td>0.258602</td>\n",
       "      <td>0.676716</td>\n",
       "    </tr>\n",
       "  </tbody>\n",
       "</table>\n",
       "</div>"
      ],
      "text/plain": [
       "          A         B  Rentabilidad  Volatilidad  Sharpe Ratio\n",
       "0  0.000000  1.000000      0.055000     0.115000      0.478261\n",
       "1  0.111111  0.888889      0.068333     0.101548      0.672915\n",
       "2  0.222222  0.777778      0.081667     0.098069      0.832744\n",
       "3  0.333333  0.666667      0.095000     0.105554      0.900012\n",
       "4  0.444444  0.555556      0.108333     0.122001      0.887970\n",
       "5  0.555556  0.444444      0.121667     0.144379      0.842688\n",
       "6  0.666667  0.333333      0.135000     0.170367      0.792406\n",
       "7  0.777778  0.222222      0.148333     0.198553      0.747073\n",
       "8  0.888889  0.111111      0.161667     0.228122      0.708684\n",
       "9  1.000000  0.000000      0.175000     0.258602      0.676716"
      ]
     },
     "execution_count": 69,
     "metadata": {},
     "output_type": "execute_result"
    }
   ],
   "source": [
    "report=p_w.copy()\n",
    "report['Rentabilidad']=rp_dw.copy()\n",
    "report['Volatilidad']=p_vol.copy()\n",
    "report['Sharpe Ratio']=sr_p.copy()\n",
    "report"
   ]
  },
  {
   "cell_type": "code",
   "execution_count": 70,
   "id": "049958c9",
   "metadata": {},
   "outputs": [
    {
     "data": {
      "text/html": [
       "<div>\n",
       "<style scoped>\n",
       "    .dataframe tbody tr th:only-of-type {\n",
       "        vertical-align: middle;\n",
       "    }\n",
       "\n",
       "    .dataframe tbody tr th {\n",
       "        vertical-align: top;\n",
       "    }\n",
       "\n",
       "    .dataframe thead th {\n",
       "        text-align: right;\n",
       "    }\n",
       "</style>\n",
       "<table border=\"1\" class=\"dataframe\">\n",
       "  <thead>\n",
       "    <tr style=\"text-align: right;\">\n",
       "      <th></th>\n",
       "      <th>A</th>\n",
       "      <th>B</th>\n",
       "      <th>Rentabilidad</th>\n",
       "      <th>Volatilidad</th>\n",
       "      <th>Sharpe Ratio</th>\n",
       "    </tr>\n",
       "  </thead>\n",
       "  <tbody>\n",
       "    <tr>\n",
       "      <th>1</th>\n",
       "      <td>0.000000</td>\n",
       "      <td>1.000000</td>\n",
       "      <td>0.055000</td>\n",
       "      <td>0.115000</td>\n",
       "      <td>0.478261</td>\n",
       "    </tr>\n",
       "    <tr>\n",
       "      <th>2</th>\n",
       "      <td>0.111111</td>\n",
       "      <td>0.888889</td>\n",
       "      <td>0.068333</td>\n",
       "      <td>0.101548</td>\n",
       "      <td>0.672915</td>\n",
       "    </tr>\n",
       "    <tr>\n",
       "      <th>3</th>\n",
       "      <td>0.222222</td>\n",
       "      <td>0.777778</td>\n",
       "      <td>0.081667</td>\n",
       "      <td>0.098069</td>\n",
       "      <td>0.832744</td>\n",
       "    </tr>\n",
       "    <tr>\n",
       "      <th>4</th>\n",
       "      <td>0.333333</td>\n",
       "      <td>0.666667</td>\n",
       "      <td>0.095000</td>\n",
       "      <td>0.105554</td>\n",
       "      <td>0.900012</td>\n",
       "    </tr>\n",
       "    <tr>\n",
       "      <th>5</th>\n",
       "      <td>0.444444</td>\n",
       "      <td>0.555556</td>\n",
       "      <td>0.108333</td>\n",
       "      <td>0.122001</td>\n",
       "      <td>0.887970</td>\n",
       "    </tr>\n",
       "    <tr>\n",
       "      <th>6</th>\n",
       "      <td>0.555556</td>\n",
       "      <td>0.444444</td>\n",
       "      <td>0.121667</td>\n",
       "      <td>0.144379</td>\n",
       "      <td>0.842688</td>\n",
       "    </tr>\n",
       "    <tr>\n",
       "      <th>7</th>\n",
       "      <td>0.666667</td>\n",
       "      <td>0.333333</td>\n",
       "      <td>0.135000</td>\n",
       "      <td>0.170367</td>\n",
       "      <td>0.792406</td>\n",
       "    </tr>\n",
       "    <tr>\n",
       "      <th>8</th>\n",
       "      <td>0.777778</td>\n",
       "      <td>0.222222</td>\n",
       "      <td>0.148333</td>\n",
       "      <td>0.198553</td>\n",
       "      <td>0.747073</td>\n",
       "    </tr>\n",
       "    <tr>\n",
       "      <th>9</th>\n",
       "      <td>0.888889</td>\n",
       "      <td>0.111111</td>\n",
       "      <td>0.161667</td>\n",
       "      <td>0.228122</td>\n",
       "      <td>0.708684</td>\n",
       "    </tr>\n",
       "    <tr>\n",
       "      <th>10</th>\n",
       "      <td>1.000000</td>\n",
       "      <td>0.000000</td>\n",
       "      <td>0.175000</td>\n",
       "      <td>0.258602</td>\n",
       "      <td>0.676716</td>\n",
       "    </tr>\n",
       "  </tbody>\n",
       "</table>\n",
       "</div>"
      ],
      "text/plain": [
       "           A         B  Rentabilidad  Volatilidad  Sharpe Ratio\n",
       "1   0.000000  1.000000      0.055000     0.115000      0.478261\n",
       "2   0.111111  0.888889      0.068333     0.101548      0.672915\n",
       "3   0.222222  0.777778      0.081667     0.098069      0.832744\n",
       "4   0.333333  0.666667      0.095000     0.105554      0.900012\n",
       "5   0.444444  0.555556      0.108333     0.122001      0.887970\n",
       "6   0.555556  0.444444      0.121667     0.144379      0.842688\n",
       "7   0.666667  0.333333      0.135000     0.170367      0.792406\n",
       "8   0.777778  0.222222      0.148333     0.198553      0.747073\n",
       "9   0.888889  0.111111      0.161667     0.228122      0.708684\n",
       "10  1.000000  0.000000      0.175000     0.258602      0.676716"
      ]
     },
     "execution_count": 70,
     "metadata": {},
     "output_type": "execute_result"
    }
   ],
   "source": [
    "escenarios=['1', '2', '3','4','5','6','7','8','9','10']\n",
    "report.index=escenarios\n",
    "report"
   ]
  },
  {
   "cell_type": "code",
   "execution_count": 44,
   "id": "7619f955",
   "metadata": {},
   "outputs": [],
   "source": [
    "#report.columns=['X','Y','Z']\n",
    "#report"
   ]
  },
  {
   "cell_type": "code",
   "execution_count": 71,
   "id": "35927115",
   "metadata": {},
   "outputs": [],
   "source": [
    "report.to_excel('Portafolios_I.xlsx',sheet_name='Ponderaciones')"
   ]
  },
  {
   "cell_type": "code",
   "execution_count": 72,
   "id": "5e02ed28",
   "metadata": {},
   "outputs": [],
   "source": [
    "#para grabar en una hoja de excel\n",
    "writer = pd.ExcelWriter('Portafolios_II.xlsx', engine='xlsxwriter')\n",
    "report.to_excel(writer, sheet_name='Ponderaciones')\n",
    "writer.save()"
   ]
  },
  {
   "cell_type": "code",
   "execution_count": 73,
   "id": "9a9c6139",
   "metadata": {},
   "outputs": [
    {
     "data": {
      "text/plain": [
       "0.9000124656329431"
      ]
     },
     "execution_count": 73,
     "metadata": {},
     "output_type": "execute_result"
    }
   ],
   "source": [
    "max_sr=report['Sharpe Ratio'].max()\n",
    "max_sr"
   ]
  },
  {
   "cell_type": "code",
   "execution_count": 48,
   "id": "543abfd1",
   "metadata": {},
   "outputs": [
    {
     "data": {
      "text/plain": [
       "'4'"
      ]
     },
     "execution_count": 48,
     "metadata": {},
     "output_type": "execute_result"
    }
   ],
   "source": [
    "report['Sharpe Ratio'].idxmax()"
   ]
  },
  {
   "cell_type": "markdown",
   "id": "4d3821f8",
   "metadata": {},
   "source": [
    "## CALCULAMOS EL PORTAFOLIO CON EL MAXIMO RATIO DE SHARPE"
   ]
  },
  {
   "cell_type": "code",
   "execution_count": 49,
   "id": "87ba121f",
   "metadata": {},
   "outputs": [],
   "source": [
    "import avs_risk_kit as ark"
   ]
  },
  {
   "cell_type": "code",
   "execution_count": 76,
   "id": "7feb8bd9",
   "metadata": {},
   "outputs": [
    {
     "data": {
      "text/plain": [
       "array([0.41787488, 0.58212512])"
      ]
     },
     "execution_count": 76,
     "metadata": {},
     "output_type": "execute_result"
    }
   ],
   "source": [
    "ark.msr(0.02, promedio_r, cov_p).round(9)"
   ]
  },
  {
   "cell_type": "code",
   "execution_count": 77,
   "id": "c4b70708",
   "metadata": {},
   "outputs": [
    {
     "data": {
      "text/html": [
       "<div>\n",
       "<style scoped>\n",
       "    .dataframe tbody tr th:only-of-type {\n",
       "        vertical-align: middle;\n",
       "    }\n",
       "\n",
       "    .dataframe tbody tr th {\n",
       "        vertical-align: top;\n",
       "    }\n",
       "\n",
       "    .dataframe thead th {\n",
       "        text-align: right;\n",
       "    }\n",
       "</style>\n",
       "<table border=\"1\" class=\"dataframe\">\n",
       "  <thead>\n",
       "    <tr style=\"text-align: right;\">\n",
       "      <th></th>\n",
       "      <th>A</th>\n",
       "      <th>B</th>\n",
       "    </tr>\n",
       "  </thead>\n",
       "  <tbody>\n",
       "    <tr>\n",
       "      <th>Depresión</th>\n",
       "      <td>-0.083575</td>\n",
       "      <td>0.029106</td>\n",
       "    </tr>\n",
       "    <tr>\n",
       "      <th>Recesión</th>\n",
       "      <td>0.041787</td>\n",
       "      <td>0.116425</td>\n",
       "    </tr>\n",
       "    <tr>\n",
       "      <th>Recuperación</th>\n",
       "      <td>0.125362</td>\n",
       "      <td>-0.069855</td>\n",
       "    </tr>\n",
       "    <tr>\n",
       "      <th>Auge</th>\n",
       "      <td>0.208937</td>\n",
       "      <td>0.052391</td>\n",
       "    </tr>\n",
       "  </tbody>\n",
       "</table>\n",
       "</div>"
      ],
      "text/plain": [
       "                     A         B\n",
       "Depresión    -0.083575  0.029106\n",
       "Recesión      0.041787  0.116425\n",
       "Recuperación  0.125362 -0.069855\n",
       "Auge          0.208937  0.052391"
      ]
     },
     "execution_count": 77,
     "metadata": {},
     "output_type": "execute_result"
    }
   ],
   "source": [
    "max_sr_rts=(ark.msr(0.02, promedio_r, cov_p))*rets\n",
    "max_sr_rts"
   ]
  },
  {
   "cell_type": "code",
   "execution_count": 78,
   "id": "a7bf3c78",
   "metadata": {},
   "outputs": [],
   "source": [
    "sum_return=max_sr_rts.sum(axis=1)\n",
    "market_rts=pd.DataFrame(sum_return)\n",
    "market_rts.columns=['UPB_Index']"
   ]
  },
  {
   "cell_type": "code",
   "execution_count": 79,
   "id": "43a6f70a",
   "metadata": {},
   "outputs": [
    {
     "data": {
      "text/html": [
       "<div>\n",
       "<style scoped>\n",
       "    .dataframe tbody tr th:only-of-type {\n",
       "        vertical-align: middle;\n",
       "    }\n",
       "\n",
       "    .dataframe tbody tr th {\n",
       "        vertical-align: top;\n",
       "    }\n",
       "\n",
       "    .dataframe thead th {\n",
       "        text-align: right;\n",
       "    }\n",
       "</style>\n",
       "<table border=\"1\" class=\"dataframe\">\n",
       "  <thead>\n",
       "    <tr style=\"text-align: right;\">\n",
       "      <th></th>\n",
       "      <th>UPB_Index</th>\n",
       "    </tr>\n",
       "  </thead>\n",
       "  <tbody>\n",
       "    <tr>\n",
       "      <th>Depresión</th>\n",
       "      <td>-0.054469</td>\n",
       "    </tr>\n",
       "    <tr>\n",
       "      <th>Recesión</th>\n",
       "      <td>0.158213</td>\n",
       "    </tr>\n",
       "    <tr>\n",
       "      <th>Recuperación</th>\n",
       "      <td>0.055507</td>\n",
       "    </tr>\n",
       "    <tr>\n",
       "      <th>Auge</th>\n",
       "      <td>0.261329</td>\n",
       "    </tr>\n",
       "  </tbody>\n",
       "</table>\n",
       "</div>"
      ],
      "text/plain": [
       "              UPB_Index\n",
       "Depresión     -0.054469\n",
       "Recesión       0.158213\n",
       "Recuperación   0.055507\n",
       "Auge           0.261329"
      ]
     },
     "execution_count": 79,
     "metadata": {},
     "output_type": "execute_result"
    }
   ],
   "source": [
    "market_rts"
   ]
  },
  {
   "cell_type": "markdown",
   "id": "6dc1cd61",
   "metadata": {},
   "source": [
    "## Covarianza con el portafolio de mercado y la constante para CAPM"
   ]
  },
  {
   "cell_type": "code",
   "execution_count": 80,
   "id": "b5596c61",
   "metadata": {},
   "outputs": [
    {
     "data": {
      "text/html": [
       "<div>\n",
       "<style scoped>\n",
       "    .dataframe tbody tr th:only-of-type {\n",
       "        vertical-align: middle;\n",
       "    }\n",
       "\n",
       "    .dataframe tbody tr th {\n",
       "        vertical-align: top;\n",
       "    }\n",
       "\n",
       "    .dataframe thead th {\n",
       "        text-align: right;\n",
       "    }\n",
       "</style>\n",
       "<table border=\"1\" class=\"dataframe\">\n",
       "  <thead>\n",
       "    <tr style=\"text-align: right;\">\n",
       "      <th></th>\n",
       "      <th>A</th>\n",
       "      <th>B</th>\n",
       "      <th>UPB_Index</th>\n",
       "    </tr>\n",
       "  </thead>\n",
       "  <tbody>\n",
       "    <tr>\n",
       "      <th>A</th>\n",
       "      <td>0.089167</td>\n",
       "      <td>-0.006500</td>\n",
       "      <td>0.033477</td>\n",
       "    </tr>\n",
       "    <tr>\n",
       "      <th>B</th>\n",
       "      <td>-0.006500</td>\n",
       "      <td>0.017633</td>\n",
       "      <td>0.007549</td>\n",
       "    </tr>\n",
       "    <tr>\n",
       "      <th>UPB_Index</th>\n",
       "      <td>0.033477</td>\n",
       "      <td>0.007549</td>\n",
       "      <td>0.018383</td>\n",
       "    </tr>\n",
       "  </tbody>\n",
       "</table>\n",
       "</div>"
      ],
      "text/plain": [
       "                  A         B  UPB_Index\n",
       "A          0.089167 -0.006500   0.033477\n",
       "B         -0.006500  0.017633   0.007549\n",
       "UPB_Index  0.033477  0.007549   0.018383"
      ]
     },
     "execution_count": 80,
     "metadata": {},
     "output_type": "execute_result"
    }
   ],
   "source": [
    "r_total=rets.copy()\n",
    "r_total['UPB_Index']=market_rts.copy()\n",
    "cov_total=r_total.cov()\n",
    "cov_total"
   ]
  },
  {
   "cell_type": "code",
   "execution_count": 81,
   "id": "93bb657f",
   "metadata": {},
   "outputs": [
    {
     "data": {
      "text/plain": [
       "A            0.033477\n",
       "B            0.007549\n",
       "UPB_Index    0.018383\n",
       "Name: UPB_Index, dtype: float64"
      ]
     },
     "execution_count": 81,
     "metadata": {},
     "output_type": "execute_result"
    }
   ],
   "source": [
    "cov_market=cov_total.iloc[2,:]\n",
    "cov_market"
   ]
  },
  {
   "cell_type": "code",
   "execution_count": 82,
   "id": "04d5d982",
   "metadata": {},
   "outputs": [
    {
     "data": {
      "text/plain": [
       "A            4.630086\n",
       "B            4.636609\n",
       "UPB_Index    4.631646\n",
       "dtype: float64"
      ]
     },
     "execution_count": 82,
     "metadata": {},
     "output_type": "execute_result"
    }
   ],
   "source": [
    "constante=(r_total.mean()-rf)/(cov_market)\n",
    "constante"
   ]
  },
  {
   "cell_type": "code",
   "execution_count": null,
   "id": "2cb5d406",
   "metadata": {},
   "outputs": [],
   "source": []
  },
  {
   "cell_type": "code",
   "execution_count": null,
   "id": "6419ea89",
   "metadata": {},
   "outputs": [],
   "source": []
  }
 ],
 "metadata": {
  "kernelspec": {
   "display_name": "Python 3 (ipykernel)",
   "language": "python",
   "name": "python3"
  },
  "language_info": {
   "codemirror_mode": {
    "name": "ipython",
    "version": 3
   },
   "file_extension": ".py",
   "mimetype": "text/x-python",
   "name": "python",
   "nbconvert_exporter": "python",
   "pygments_lexer": "ipython3",
   "version": "3.9.12"
  }
 },
 "nbformat": 4,
 "nbformat_minor": 5
}
